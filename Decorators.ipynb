{
 "cells": [
  {
   "cell_type": "code",
   "execution_count": 2,
   "id": "32f99dad-1843-449a-92ec-6e7514f54c53",
   "metadata": {},
   "outputs": [
    {
     "data": {
      "text/plain": [
       "'hello'"
      ]
     },
     "execution_count": 2,
     "metadata": {},
     "output_type": "execute_result"
    }
   ],
   "source": [
    "\"hello\""
   ]
  },
  {
   "cell_type": "code",
   "execution_count": 4,
   "id": "ae888dd0-daaf-4ac7-8822-df33dfd61c9c",
   "metadata": {},
   "outputs": [
    {
     "name": "stdout",
     "output_type": "stream",
     "text": [
      "calling function before deceorating\n",
      "naman\n",
      "calling function before deceorating\n",
      "NAMAN\n"
     ]
    }
   ],
   "source": [
    "def printname(name):\n",
    "    name = name.lower()\n",
    "    return name\n",
    "def decorator(func):\n",
    "    def wrapper(name):\n",
    "        name=name.upper()\n",
    "        return name\n",
    "    return wrapper\n",
    "\n",
    "print(\"calling function before deceorating\")\n",
    "print(printname(\"Naman\"))\n",
    "\n",
    "print(\"calling function before deceorating\")\n",
    "      \n",
    "printname = decorator(printname)\n",
    "print(printname(\"Naman\"))"
   ]
  },
  {
   "cell_type": "code",
   "execution_count": 6,
   "id": "9de5c06b-d36b-4cc9-9e10-5e232541908e",
   "metadata": {},
   "outputs": [
    {
     "name": "stdout",
     "output_type": "stream",
     "text": [
      "1\n",
      "2\n",
      "3\n",
      "4\n",
      "5\n"
     ]
    }
   ],
   "source": [
    "l = [1,2,3,4,5]\n",
    "itr = iter(l)\n",
    "\n",
    "for _ in range(len(l)):\n",
    "    print(next(itr))"
   ]
  },
  {
   "cell_type": "code",
   "execution_count": 7,
   "id": "b12653d3-41a1-4787-9afb-a7db63f47fd0",
   "metadata": {},
   "outputs": [
    {
     "name": "stdout",
     "output_type": "stream",
     "text": [
      "NAMAN"
     ]
    }
   ],
   "source": [
    "def name():\n",
    "    yield 'N'\n",
    "    yield 'A'\n",
    "    yield 'M'\n",
    "    yield 'A'\n",
    "    yield 'N'\n",
    "\n",
    "for i in name():\n",
    "    print(i,end=\"\")"
   ]
  },
  {
   "cell_type": "code",
   "execution_count": 8,
   "id": "db8bd929-d921-4c6d-87f0-c1848d6a1e40",
   "metadata": {},
   "outputs": [
    {
     "name": "stdout",
     "output_type": "stream",
     "text": [
      "\n",
      "0\n",
      "2\n",
      "4\n",
      "6\n",
      "8\n",
      "10\n"
     ]
    }
   ],
   "source": [
    "def even_numbers(n):\n",
    "    for i in range(n):\n",
    "        if i%2==0:\n",
    "            yield i\n",
    "\n",
    "print()\n",
    "for i in even_numbers(11):\n",
    "    print(i)"
   ]
  },
  {
   "cell_type": "code",
   "execution_count": 15,
   "id": "efcd65db-0984-4cf5-bf55-abf4aa2a911e",
   "metadata": {},
   "outputs": [
    {
     "name": "stdout",
     "output_type": "stream",
     "text": [
      "NAMAN\n"
     ]
    }
   ],
   "source": [
    "'''def print_name(name):\n",
    "    name = name.lower()\n",
    "    return name'''\n",
    "\n",
    "def uppper_name(func):\n",
    "    def wrapper(name):\n",
    "        name = name.upper()\n",
    "        return name\n",
    "    return wrapper\n",
    "\n",
    "@uppper_name\n",
    "def print_name(name):\n",
    "    name = name.lower()\n",
    "    return name\n",
    "print(print_name('Naman'))"
   ]
  },
  {
   "cell_type": "code",
   "execution_count": 16,
   "id": "9ff48a85-ff72-4a9a-aa7b-900ec88fd6cb",
   "metadata": {},
   "outputs": [
    {
     "name": "stdout",
     "output_type": "stream",
     "text": [
      "[('manish', 23), ('naman', 20), ('ritul', 21)]\n"
     ]
    }
   ],
   "source": [
    "name = ('naman','ritul','manish')\n",
    "age = (20,21,23)\n",
    "\n",
    "res = list(zip(name,age))\n",
    "res.sort()\n",
    "print(res)"
   ]
  },
  {
   "cell_type": "code",
   "execution_count": 17,
   "id": "78c22076-d610-48d9-9676-ffe899bfa5b1",
   "metadata": {},
   "outputs": [
    {
     "name": "stdout",
     "output_type": "stream",
     "text": [
      "('java', 'c++', 'python')\n",
      "(4, 5, 4.5)\n"
     ]
    }
   ],
   "source": [
    "d = [('java',4),('c++',5),('python',4.5)]\n",
    "\n",
    "lang,rating = zip(*d)\n",
    "print(lang)\n",
    "print(rating)"
   ]
  },
  {
   "cell_type": "code",
   "execution_count": 19,
   "id": "e98dd0a8-b676-4849-b481-92cf13e41a80",
   "metadata": {},
   "outputs": [
    {
     "name": "stdout",
     "output_type": "stream",
     "text": [
      "[(1, 'a', 0), (2, 'b', 1), (3, 'c', 2), (None, 'd', 3), (None, None, 4)]\n"
     ]
    }
   ],
   "source": [
    "from itertools import zip_longest\n",
    "a=[1,2,3]\n",
    "b=['a','b','c','d']\n",
    "r = range(5)\n",
    "\n",
    "res = zip_longest(a,b,r,fillvalue=None)\n",
    "print(list(res))"
   ]
  },
  {
   "cell_type": "code",
   "execution_count": 20,
   "id": "ef571d78-73c8-4624-b651-2dd0ff2e2f45",
   "metadata": {},
   "outputs": [
    {
     "name": "stdout",
     "output_type": "stream",
     "text": [
      "Name:Naman\n",
      "Age:21\n",
      "DOB:19-11-2001\n",
      "job:python developer\n"
     ]
    }
   ],
   "source": [
    "emp ={'Name':'Naman','Age':'21','DOB':'19-11-2001'}\n",
    "field = ['job']\n",
    "val = ['python developer']\n",
    "\n",
    "emp.update(zip(field,val))\n",
    "\n",
    "for key,value in emp.items():\n",
    "    print(f\"{key}:{value}\")"
   ]
  },
  {
   "cell_type": "code",
   "execution_count": 21,
   "id": "ed54f8cf-5044-4cae-8437-013a35d2b59c",
   "metadata": {},
   "outputs": [
    {
     "name": "stdout",
     "output_type": "stream",
     "text": [
      "{'first_name': 'John', 'last_name': 'Doe', 'age': '45', 'job': 'Python Developer'}\n"
     ]
    }
   ],
   "source": [
    "fields = ['first_name', 'last_name', 'age', 'job']\n",
    "values = ['John', 'Doe', '45', 'Python Developer']\n",
    "\n",
    "a_dict = dict(zip(fields,values))\n",
    "print(a_dict)"
   ]
  },
  {
   "cell_type": "code",
   "execution_count": null,
   "id": "f1e87222-8d95-474e-980b-e0d6e5ef2709",
   "metadata": {},
   "outputs": [],
   "source": []
  }
 ],
 "metadata": {
  "kernelspec": {
   "display_name": "Python 3",
   "language": "python",
   "name": "python3"
  },
  "language_info": {
   "codemirror_mode": {
    "name": "ipython",
    "version": 3
   },
   "file_extension": ".py",
   "mimetype": "text/x-python",
   "name": "python",
   "nbconvert_exporter": "python",
   "pygments_lexer": "ipython3",
   "version": "3.11.0 (main, Oct 24 2022, 18:26:48) [MSC v.1933 64 bit (AMD64)]"
  },
  "vscode": {
   "interpreter": {
    "hash": "c43593f8c4f6f30c8d96965b7910242a0df88646d658408a1799380e0e24ea18"
   }
  }
 },
 "nbformat": 4,
 "nbformat_minor": 5
}
